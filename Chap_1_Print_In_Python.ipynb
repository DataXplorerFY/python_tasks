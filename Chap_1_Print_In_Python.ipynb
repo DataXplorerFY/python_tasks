{
 "cells": [
  {
   "cell_type": "code",
   "execution_count": 1,
   "id": "9acfec4f",
   "metadata": {},
   "outputs": [
    {
     "name": "stdout",
     "output_type": "stream",
     "text": [
      "1000\n"
     ]
    }
   ],
   "source": [
    "print(1000)"
   ]
  },
  {
   "cell_type": "code",
   "execution_count": 2,
   "id": "8ef21919",
   "metadata": {},
   "outputs": [
    {
     "name": "stdout",
     "output_type": "stream",
     "text": [
      "234 456\n"
     ]
    }
   ],
   "source": [
    "print(234, 456)"
   ]
  },
  {
   "cell_type": "code",
   "execution_count": 3,
   "id": "867fab29",
   "metadata": {},
   "outputs": [
    {
     "name": "stdout",
     "output_type": "stream",
     "text": [
      "\n"
     ]
    }
   ],
   "source": [
    "print()"
   ]
  },
  {
   "cell_type": "code",
   "execution_count": 7,
   "id": "a1dbaa6c",
   "metadata": {},
   "outputs": [
    {
     "name": "stdout",
     "output_type": "stream",
     "text": [
      "23 12.3\n"
     ]
    }
   ],
   "source": [
    "print(23, 12.3)# integer and floatin value"
   ]
  },
  {
   "cell_type": "code",
   "execution_count": 8,
   "id": "6a326bc9",
   "metadata": {},
   "outputs": [
    {
     "name": "stdout",
     "output_type": "stream",
     "text": [
      "Farhan\n"
     ]
    }
   ],
   "source": [
    "print(\"Farhan\") #string"
   ]
  },
  {
   "cell_type": "code",
   "execution_count": 9,
   "id": "9abd3020",
   "metadata": {},
   "outputs": [
    {
     "name": "stdout",
     "output_type": "stream",
     "text": [
      "12\n"
     ]
    }
   ],
   "source": [
    "print(\"12\")"
   ]
  },
  {
   "cell_type": "code",
   "execution_count": 10,
   "id": "b2e94e7d",
   "metadata": {},
   "outputs": [
    {
     "name": "stdout",
     "output_type": "stream",
     "text": [
      "1233pakistan\n"
     ]
    }
   ],
   "source": [
    "print(\"1233pakistan\") #combination of string and integer that type of daya called alpha numeric data"
   ]
  },
  {
   "cell_type": "code",
   "execution_count": 15,
   "id": "20bdc3f7",
   "metadata": {},
   "outputs": [
    {
     "name": "stdout",
     "output_type": "stream",
     "text": [
      "pakitsan leo asad\n"
     ]
    }
   ],
   "source": [
    "print(\"pakitsan\",\"leo\",'asad' ,sep=' ') #sep stand for separator"
   ]
  },
  {
   "cell_type": "code",
   "execution_count": 17,
   "id": "e53843bf",
   "metadata": {},
   "outputs": [
    {
     "name": "stdout",
     "output_type": "stream",
     "text": [
      "hello world1\n",
      "hello world2\n",
      "hello world3\n"
     ]
    }
   ],
   "source": [
    "print(\"hello world1\")\n",
    "print(\"hello world2\")\n",
    "print(\"hello world3\")\n"
   ]
  },
  {
   "cell_type": "code",
   "execution_count": 21,
   "id": "ef3b28be",
   "metadata": {},
   "outputs": [
    {
     "name": "stdout",
     "output_type": "stream",
     "text": [
      "hello world1\n",
      "\n",
      "hello world2\n",
      "\n",
      "hello world3\n"
     ]
    }
   ],
   "source": [
    "print(\"hello world1\", end=\"\\n\\n\")\n",
    "print(\"hello world2\",end=\"\\n\\n\")\n",
    "print(\"hello world3\")\n"
   ]
  },
  {
   "cell_type": "code",
   "execution_count": 22,
   "id": "34015b66",
   "metadata": {},
   "outputs": [
    {
     "name": "stdout",
     "output_type": "stream",
     "text": [
      "hello world1hello world2hello world3\n"
     ]
    }
   ],
   "source": [
    "print(\"hello world1\", end=\"\")\n",
    "print(\"hello world2\",end=\"\")\n",
    "print(\"hello world3\")\n"
   ]
  },
  {
   "cell_type": "code",
   "execution_count": 23,
   "id": "4309b806",
   "metadata": {},
   "outputs": [
    {
     "name": "stdout",
     "output_type": "stream",
     "text": [
      "i am a programmer\ti am a data scientist\tMeta data\n"
     ]
    }
   ],
   "source": [
    "print(\"i am a programmer\",end=\"\\t\")\n",
    "print(\"i am a data scientist\",end=\"\\t\")\n",
    "print(\"Meta data\")"
   ]
  },
  {
   "cell_type": "markdown",
   "id": "25332eae",
   "metadata": {},
   "source": [
    "# Assignment>>> explore escape characters"
   ]
  },
  {
   "cell_type": "code",
   "execution_count": null,
   "id": "bf60825a",
   "metadata": {},
   "outputs": [],
   "source": []
  }
 ],
 "metadata": {
  "kernelspec": {
   "display_name": "Python 3 (ipykernel)",
   "language": "python",
   "name": "python3"
  },
  "language_info": {
   "codemirror_mode": {
    "name": "ipython",
    "version": 3
   },
   "file_extension": ".py",
   "mimetype": "text/x-python",
   "name": "python",
   "nbconvert_exporter": "python",
   "pygments_lexer": "ipython3",
   "version": "3.9.7"
  }
 },
 "nbformat": 4,
 "nbformat_minor": 5
}
