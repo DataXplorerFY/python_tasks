{
 "cells": [
  {
   "cell_type": "markdown",
   "id": "468f9136",
   "metadata": {},
   "source": [
    "# Write a function that takes in two strings as input and returns True if the strings are anagrams of each other, and False otherwise. An anagram is a word or phrase formed by rearranging the letters of another word or phrase."
   ]
  },
  {
   "cell_type": "code",
   "execution_count": 1,
   "id": "685ff4de",
   "metadata": {},
   "outputs": [
    {
     "name": "stdout",
     "output_type": "stream",
     "text": [
      "True\n",
      "False\n",
      "True\n"
     ]
    }
   ],
   "source": [
    "def is_anagram(s1, s2):\n",
    "    s1 = s1.lower().replace(\" \", \"\")\n",
    "    s2 = s2.lower().replace(\" \", \"\")\n",
    "    return sorted(s1) == sorted(s2)\n",
    "  \n",
    "# Test cases\n",
    "print(is_anagram(\"listen\", \"silent\"))  # True\n",
    "print(is_anagram(\"Hello\", \"World\"))    # False\n",
    "print(is_anagram(\"debit card\", \"bad credit\"))  # True\n"
   ]
  },
  {
   "cell_type": "markdown",
   "id": "4050ea15",
   "metadata": {},
   "source": [
    "# Write a function that takes in a string as input and returns True if all the characters in the string are unique, and False otherwise. The function should be case-sensitive."
   ]
  },
  {
   "cell_type": "code",
   "execution_count": 2,
   "id": "507730ba",
   "metadata": {},
   "outputs": [
    {
     "name": "stdout",
     "output_type": "stream",
     "text": [
      "True\n",
      "False\n",
      "True\n"
     ]
    }
   ],
   "source": [
    "def has_unique_chars(s):\n",
    "    char_set = set()\n",
    "    for char in s:\n",
    "        if char in char_set:\n",
    "            return False\n",
    "        char_set.add(char)\n",
    "    return True\n",
    "  \n",
    "# Test cases\n",
    "print(has_unique_chars(\"abcde\"))   # True\n",
    "print(has_unique_chars(\"hello\"))   # False\n",
    "print(has_unique_chars(\"Python\"))  # True\n"
   ]
  },
  {
   "cell_type": "markdown",
   "id": "8160d688",
   "metadata": {},
   "source": [
    "# Write a function that takes in a string as input and returns True if the string is a palindrome (reads the same forwards and backwards), and False otherwise. The function should be case-insensitive and ignore any non-alphanumeric characters."
   ]
  },
  {
   "cell_type": "code",
   "execution_count": 3,
   "id": "8034f7cc",
   "metadata": {},
   "outputs": [
    {
     "name": "stdout",
     "output_type": "stream",
     "text": [
      "True\n",
      "True\n",
      "False\n"
     ]
    }
   ],
   "source": [
    "def is_palindrome(s):\n",
    "    s = ''.join(c.lower() for c in s if c.isalnum())\n",
    "    return s == s[::-1]\n",
    "\n",
    "# Test cases\n",
    "print(is_palindrome(\"level\"))         # True\n",
    "print(is_palindrome(\"A man, a plan, a canal: Panama\"))   # True\n",
    "print(is_palindrome(\"Hello, World!\"))  # False\n"
   ]
  },
  {
   "cell_type": "code",
   "execution_count": null,
   "id": "c8f6d98c",
   "metadata": {},
   "outputs": [],
   "source": []
  }
 ],
 "metadata": {
  "kernelspec": {
   "display_name": "Python 3 (ipykernel)",
   "language": "python",
   "name": "python3"
  },
  "language_info": {
   "codemirror_mode": {
    "name": "ipython",
    "version": 3
   },
   "file_extension": ".py",
   "mimetype": "text/x-python",
   "name": "python",
   "nbconvert_exporter": "python",
   "pygments_lexer": "ipython3",
   "version": "3.9.7"
  }
 },
 "nbformat": 4,
 "nbformat_minor": 5
}
