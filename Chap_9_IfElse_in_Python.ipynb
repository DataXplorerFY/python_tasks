{
 "cells": [
  {
   "cell_type": "markdown",
   "id": "2b9b48b7",
   "metadata": {},
   "source": [
    "# If statements"
   ]
  },
  {
   "cell_type": "code",
   "execution_count": 9,
   "id": "a326d475",
   "metadata": {},
   "outputs": [
    {
     "name": "stdout",
     "output_type": "stream",
     "text": [
      "yes its cat\n"
     ]
    }
   ],
   "source": [
    "if species==\"cat\":\n",
    "    print(\"yes its cat\")"
   ]
  },
  {
   "cell_type": "code",
   "execution_count": 12,
   "id": "d2593650",
   "metadata": {},
   "outputs": [
    {
     "name": "stdout",
     "output_type": "stream",
     "text": [
      "Enter your marks 56\n",
      "Congratulations you have passed\n"
     ]
    }
   ],
   "source": [
    "# Print(\"Enter your marks\")\n",
    "marks=int(input(\"Enter your marks \"))\n",
    "if marks>=40:\n",
    "    print(\"Congratulations you have passed\")"
   ]
  },
  {
   "cell_type": "code",
   "execution_count": 15,
   "id": "f9c573e3",
   "metadata": {},
   "outputs": [
    {
     "name": "stdout",
     "output_type": "stream",
     "text": [
      "Enter your marks\n",
      "30\n"
     ]
    }
   ],
   "source": [
    "print(\"Enter your marks\")\n",
    "marks=int(input())\n",
    "if marks>=40:\n",
    "    print(\"Congratulations you have passed\")"
   ]
  },
  {
   "cell_type": "markdown",
   "id": "a03ae263",
   "metadata": {},
   "source": [
    "marks=int(input(\"Enter your Marks \"))\n",
    "if marks >=40:\n",
    "    print(\"Congratulations! You have passed\")\n",
    "    "
   ]
  },
  {
   "cell_type": "code",
   "execution_count": 1,
   "id": "59914911",
   "metadata": {},
   "outputs": [
    {
     "name": "stdout",
     "output_type": "stream",
     "text": [
      "everything make sense\n"
     ]
    }
   ],
   "source": [
    "if 2+2==4:\n",
    "    print(\"everything make sense\")"
   ]
  },
  {
   "cell_type": "code",
   "execution_count": 3,
   "id": "91a262a7",
   "metadata": {},
   "outputs": [
    {
     "name": "stdout",
     "output_type": "stream",
     "text": [
      "Enter first number\n",
      "9\n",
      "Enter seconf number\n",
      "0\n"
     ]
    }
   ],
   "source": [
    "num1=int(input(\"Enter first number\\n\"))\n",
    "num2=int(input(\"Enter seconf number\\n\"))\n",
    "if num1==num2:\n",
    "    print(\"Both numbers are equal\")"
   ]
  },
  {
   "cell_type": "markdown",
   "id": "90ac7423",
   "metadata": {},
   "source": [
    "# Question 1"
   ]
  },
  {
   "cell_type": "code",
   "execution_count": 18,
   "id": "8e6dc0fa",
   "metadata": {},
   "outputs": [],
   "source": [
    "# Write a program that inputs two numbers and finds whether both are equal"
   ]
  },
  {
   "cell_type": "code",
   "execution_count": 22,
   "id": "4f290898",
   "metadata": {},
   "outputs": [
    {
     "name": "stdout",
     "output_type": "stream",
     "text": [
      "Enter 1st number\n",
      "6\n",
      "Enter 2nd number\n",
      "7\n"
     ]
    }
   ],
   "source": [
    "num1=int(input(\"Enter 1st number\\n\"))\n",
    "num2=int(input(\"Enter 2nd number\\n\"))\n",
    "if num1==num2:\n",
    "    print(\"Both are equal\")"
   ]
  },
  {
   "cell_type": "markdown",
   "id": "e45ff01a",
   "metadata": {},
   "source": [
    "# Question 2"
   ]
  },
  {
   "cell_type": "code",
   "execution_count": 20,
   "id": "25e36023",
   "metadata": {},
   "outputs": [],
   "source": [
    "# write a program that inputs two numbers and find if second number is square of first"
   ]
  },
  {
   "cell_type": "code",
   "execution_count": 25,
   "id": "a00e4dc4",
   "metadata": {},
   "outputs": [
    {
     "name": "stdout",
     "output_type": "stream",
     "text": [
      "Enter 1st number\n",
      "4\n",
      "Enter 2nd number\n",
      "16\n",
      "second number is the square of first number\n"
     ]
    }
   ],
   "source": [
    "num1=int(input(\"Enter 1st number\\n\"))\n",
    "num2=int(input(\"Enter 2nd number\\n\"))\n",
    "if num2==num1**2:\n",
    "    print(\"second number is the square of first number\")"
   ]
  },
  {
   "cell_type": "markdown",
   "id": "a071dcf9",
   "metadata": {},
   "source": [
    "# Question 3"
   ]
  },
  {
   "cell_type": "code",
   "execution_count": 26,
   "id": "125da7c8",
   "metadata": {},
   "outputs": [],
   "source": [
    "# write a program that inputs marks of three subjects, If the avarage marks is more than 80, it displays two messages \"You are above standard!\" and \"Admission granted!\""
   ]
  },
  {
   "cell_type": "code",
   "execution_count": 29,
   "id": "28db6949",
   "metadata": {},
   "outputs": [
    {
     "name": "stdout",
     "output_type": "stream",
     "text": [
      "Enter 1st sub marks\n",
      "80\n",
      "Enter 2nd sub marks\n",
      "80\n",
      "Enter 3rd sub marks\n",
      "80\n",
      "80.0\n"
     ]
    }
   ],
   "source": [
    "marks1=int(input(\"Enter 1st sub marks\\n\"))\n",
    "marks2=int(input(\"Enter 2nd sub marks\\n\"))\n",
    "marks3=int(input(\"Enter 3rd sub marks\\n\"))\n",
    "avg_marks=(marks1+marks2+marks3)/3\n",
    "print(avg_marks)\n",
    "if avg_marks > 80:\n",
    "    print(\"You are above standard!\")\n",
    "    print(\"Admission granted!\")\n"
   ]
  },
  {
   "cell_type": "markdown",
   "id": "31648c1a",
   "metadata": {},
   "source": [
    "# Question 4"
   ]
  },
  {
   "cell_type": "code",
   "execution_count": 30,
   "id": "2c8acc08",
   "metadata": {},
   "outputs": [],
   "source": [
    "#write a program that inputs three numbers and display the maximum number"
   ]
  },
  {
   "cell_type": "code",
   "execution_count": 33,
   "id": "0a35846d",
   "metadata": {},
   "outputs": [
    {
     "name": "stdout",
     "output_type": "stream",
     "text": [
      "Enter 1st num 90\n",
      "Enter 2nd num 500\n",
      "Enter 3rd num 690\n",
      "number 3 is greater\n"
     ]
    }
   ],
   "source": [
    "num1=int(input(\"Enter 1st num \"))\n",
    "num2=int(input(\"Enter 2nd num \"))\n",
    "num3=int(input(\"Enter 3rd num \"))\n",
    "\n",
    "if num1>num2 and num1> num3:\n",
    "    print(\"number 1 is greater\")\n",
    "    \n",
    "if num2>num1 and num2> num3:\n",
    "    print(\"number 2 is greater\")\n",
    "    \n",
    "if num3>num1 and num3>num2:\n",
    "    print(\"number 3 is greater\")"
   ]
  },
  {
   "cell_type": "markdown",
   "id": "c0bdef9b",
   "metadata": {},
   "source": [
    "# Question 5"
   ]
  },
  {
   "cell_type": "code",
   "execution_count": 34,
   "id": "dee72a9b",
   "metadata": {},
   "outputs": [],
   "source": [
    "# write a program that input a number and determine whether it is positive, negative or 0"
   ]
  },
  {
   "cell_type": "code",
   "execution_count": 39,
   "id": "15353b3d",
   "metadata": {},
   "outputs": [
    {
     "name": "stdout",
     "output_type": "stream",
     "text": [
      "Enter a number\n",
      "-1\n",
      "Number is negative\n",
      "\n"
     ]
    }
   ],
   "source": [
    "num=int(input(\"Enter a number\\n\"))\n",
    "if num>0:\n",
    "    print(\"Number is positive\\n\")\n",
    "if num<0:\n",
    "    print(\"Number is negative\\n\")\n",
    "if num==0:\n",
    "    print(\"Number is Zero\")"
   ]
  },
  {
   "cell_type": "code",
   "execution_count": 40,
   "id": "4f5daa12",
   "metadata": {},
   "outputs": [],
   "source": [
    "#write a program that inputs 5 integers. it finds and prints the largest and smallest integers"
   ]
  },
  {
   "cell_type": "code",
   "execution_count": null,
   "id": "00640f16",
   "metadata": {},
   "outputs": [],
   "source": [
    "num1=int(input(\"Enter 1 number\\n\"))\n",
    "num2=int(input(\"Enter 2 number\\n\"))\n",
    "num3=int(input(\"Enter 3 number\\n\"))\n",
    "num4=int(input(\"Enter 4 number\\n\"))\n",
    "num5=int(input(\"Enter 5 number\\n\"))\n",
    "\n",
    "\n",
    "if num1>num2"
   ]
  },
  {
   "cell_type": "code",
   "execution_count": null,
   "id": "2571d03b",
   "metadata": {},
   "outputs": [],
   "source": []
  }
 ],
 "metadata": {
  "kernelspec": {
   "display_name": "Python 3 (ipykernel)",
   "language": "python",
   "name": "python3"
  },
  "language_info": {
   "codemirror_mode": {
    "name": "ipython",
    "version": 3
   },
   "file_extension": ".py",
   "mimetype": "text/x-python",
   "name": "python",
   "nbconvert_exporter": "python",
   "pygments_lexer": "ipython3",
   "version": "3.9.7"
  }
 },
 "nbformat": 4,
 "nbformat_minor": 5
}
