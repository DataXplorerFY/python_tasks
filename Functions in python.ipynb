{
 "cells": [
  {
   "cell_type": "markdown",
   "id": "1e499bb1",
   "metadata": {},
   "source": [
    "# Functions Lecture 1st"
   ]
  },
  {
   "cell_type": "code",
   "execution_count": 3,
   "id": "5df3c1b2",
   "metadata": {},
   "outputs": [
    {
     "name": "stdout",
     "output_type": "stream",
     "text": [
      "Enter 1st number 3\n",
      "Enter 2nd number 3\n",
      "The sum of the above number is 6\n"
     ]
    }
   ],
   "source": [
    "def add():\n",
    "    number_1=int(input(\"Enter 1st number \"))\n",
    "    number_2=int(input(\"Enter 2nd number \"))\n",
    "    print(\"The sum of the above number is\",number_1 + number_2)\n",
    "    \n",
    "add()"
   ]
  },
  {
   "cell_type": "code",
   "execution_count": 4,
   "id": "f52f3b97",
   "metadata": {},
   "outputs": [
    {
     "name": "stdout",
     "output_type": "stream",
     "text": [
      "I Am parametter less function\n"
     ]
    }
   ],
   "source": [
    "def add(): ## empty function is parameter less function\n",
    "    print(\"I Am parametter less function\")\n",
    "    \n",
    "add()"
   ]
  },
  {
   "cell_type": "code",
   "execution_count": 7,
   "id": "eaf42ee1",
   "metadata": {},
   "outputs": [
    {
     "name": "stdout",
     "output_type": "stream",
     "text": [
      "30\n"
     ]
    }
   ],
   "source": [
    "def add(a,b): ## This is parameterized function\n",
    "    print(a+b)\n",
    "add(10,20) #this is arguments in this"
   ]
  },
  {
   "cell_type": "code",
   "execution_count": 8,
   "id": "d8d9dd14",
   "metadata": {},
   "outputs": [
    {
     "name": "stdout",
     "output_type": "stream",
     "text": [
      "300\n"
     ]
    }
   ],
   "source": [
    "add(100,200)"
   ]
  },
  {
   "cell_type": "code",
   "execution_count": 9,
   "id": "c57d8633",
   "metadata": {},
   "outputs": [
    {
     "name": "stdout",
     "output_type": "stream",
     "text": [
      "1199\n"
     ]
    }
   ],
   "source": [
    "add(300,899)"
   ]
  },
  {
   "cell_type": "code",
   "execution_count": 14,
   "id": "dda2a165",
   "metadata": {},
   "outputs": [],
   "source": [
    "def full_Name(first,middle,last):\n",
    "    print(first + middle + last)"
   ]
  },
  {
   "cell_type": "code",
   "execution_count": 19,
   "id": "04c50317",
   "metadata": {},
   "outputs": [
    {
     "name": "stdout",
     "output_type": "stream",
     "text": [
      "Farhan Ali Khan \n"
     ]
    }
   ],
   "source": [
    "full_Name(\"Farhan \",\"Ali \",\"Khan \")   # sequence matters in positional arguments"
   ]
  },
  {
   "cell_type": "markdown",
   "id": "66d0d088",
   "metadata": {},
   "source": [
    "# Key-word arguments in function"
   ]
  },
  {
   "cell_type": "code",
   "execution_count": 20,
   "id": "17f81fc6",
   "metadata": {},
   "outputs": [
    {
     "name": "stdout",
     "output_type": "stream",
     "text": [
      "FarhanAliKhan\n"
     ]
    }
   ],
   "source": [
    "full_Name(middle=\"Ali\",last=\"Khan\",first=\"Farhan\")"
   ]
  },
  {
   "cell_type": "markdown",
   "id": "d0b2fb58",
   "metadata": {},
   "source": [
    "# Default value parameter"
   ]
  },
  {
   "cell_type": "code",
   "execution_count": 23,
   "id": "dbc237aa",
   "metadata": {},
   "outputs": [],
   "source": [
    "def add(n1=0, n2=0):\n",
    "    print(n1 + n2)"
   ]
  },
  {
   "cell_type": "code",
   "execution_count": 24,
   "id": "04b80d94",
   "metadata": {},
   "outputs": [
    {
     "name": "stdout",
     "output_type": "stream",
     "text": [
      "10\n"
     ]
    }
   ],
   "source": [
    "add(n2=10)"
   ]
  },
  {
   "cell_type": "code",
   "execution_count": null,
   "id": "2ad1552c",
   "metadata": {},
   "outputs": [],
   "source": []
  }
 ],
 "metadata": {
  "kernelspec": {
   "display_name": "Python 3 (ipykernel)",
   "language": "python",
   "name": "python3"
  },
  "language_info": {
   "codemirror_mode": {
    "name": "ipython",
    "version": 3
   },
   "file_extension": ".py",
   "mimetype": "text/x-python",
   "name": "python",
   "nbconvert_exporter": "python",
   "pygments_lexer": "ipython3",
   "version": "3.9.7"
  }
 },
 "nbformat": 4,
 "nbformat_minor": 5
}
