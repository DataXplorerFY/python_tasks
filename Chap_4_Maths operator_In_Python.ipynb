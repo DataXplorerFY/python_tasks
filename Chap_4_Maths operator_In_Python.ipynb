{
 "cells": [
  {
   "cell_type": "markdown",
   "id": "cdc8f0b2",
   "metadata": {},
   "source": [
    "# operators in python\n",
    "# +,-,*,/, %,**"
   ]
  },
  {
   "cell_type": "code",
   "execution_count": 3,
   "id": "156eb691",
   "metadata": {},
   "outputs": [
    {
     "name": "stdout",
     "output_type": "stream",
     "text": [
      "30\n"
     ]
    }
   ],
   "source": [
    "a=10\n",
    "b=20\n",
    "\n",
    "c=a+b\n",
    "print(c)"
   ]
  },
  {
   "cell_type": "code",
   "execution_count": 6,
   "id": "7348ace3",
   "metadata": {},
   "outputs": [
    {
     "data": {
      "text/plain": [
       "84.5"
      ]
     },
     "execution_count": 6,
     "metadata": {},
     "output_type": "execute_result"
    }
   ],
   "source": [
    "value1=100\n",
    "value2=15.5\n",
    "sub= value1-value2\n",
    "\n",
    "sub"
   ]
  },
  {
   "cell_type": "code",
   "execution_count": 9,
   "id": "e8ca7641",
   "metadata": {},
   "outputs": [],
   "source": [
    "d=20\n",
    "e=30\n",
    "\n",
    "f=d/e #python bydefault floating point division"
   ]
  },
  {
   "cell_type": "code",
   "execution_count": 10,
   "id": "88ece9f1",
   "metadata": {},
   "outputs": [
    {
     "data": {
      "text/plain": [
       "0.6666666666666666"
      ]
     },
     "execution_count": 10,
     "metadata": {},
     "output_type": "execute_result"
    }
   ],
   "source": [
    "f"
   ]
  },
  {
   "cell_type": "code",
   "execution_count": 12,
   "id": "adc52dfd",
   "metadata": {},
   "outputs": [
    {
     "data": {
      "text/plain": [
       "0"
      ]
     },
     "execution_count": 12,
     "metadata": {},
     "output_type": "execute_result"
    }
   ],
   "source": [
    "d=20\n",
    "e=30\n",
    "\n",
    "f=d//e   #by usig double slash its called interger division\n",
    "f"
   ]
  },
  {
   "cell_type": "markdown",
   "id": "eb872a72",
   "metadata": {},
   "source": [
    "# In String (+) is called concatenation , Its not addition"
   ]
  },
  {
   "cell_type": "code",
   "execution_count": 17,
   "id": "59dd7240",
   "metadata": {},
   "outputs": [],
   "source": [
    "a=\"23\"\n",
    "b=\"30\"\n",
    "c=a+b"
   ]
  },
  {
   "cell_type": "code",
   "execution_count": 18,
   "id": "71e41518",
   "metadata": {},
   "outputs": [
    {
     "data": {
      "text/plain": [
       "'2330'"
      ]
     },
     "execution_count": 18,
     "metadata": {},
     "output_type": "execute_result"
    }
   ],
   "source": [
    "c"
   ]
  },
  {
   "cell_type": "markdown",
   "id": "073994a6",
   "metadata": {},
   "source": [
    "# Question problems"
   ]
  },
  {
   "cell_type": "code",
   "execution_count": 19,
   "id": "c97546f1",
   "metadata": {},
   "outputs": [],
   "source": [
    "# write a program that perform all mathematical operation in two variables."
   ]
  },
  {
   "cell_type": "code",
   "execution_count": 20,
   "id": "30937d40",
   "metadata": {},
   "outputs": [],
   "source": [
    "a= 100\n",
    "b=55.5"
   ]
  },
  {
   "cell_type": "code",
   "execution_count": 21,
   "id": "4a921fd0",
   "metadata": {},
   "outputs": [
    {
     "data": {
      "text/plain": [
       "155.5"
      ]
     },
     "execution_count": 21,
     "metadata": {},
     "output_type": "execute_result"
    }
   ],
   "source": [
    "a+b"
   ]
  },
  {
   "cell_type": "code",
   "execution_count": 22,
   "id": "6c14ad81",
   "metadata": {},
   "outputs": [
    {
     "data": {
      "text/plain": [
       "44.5"
      ]
     },
     "execution_count": 22,
     "metadata": {},
     "output_type": "execute_result"
    }
   ],
   "source": [
    "a-b"
   ]
  },
  {
   "cell_type": "code",
   "execution_count": 23,
   "id": "2072b21b",
   "metadata": {},
   "outputs": [
    {
     "data": {
      "text/plain": [
       "1.8018018018018018"
      ]
     },
     "execution_count": 23,
     "metadata": {},
     "output_type": "execute_result"
    }
   ],
   "source": [
    "a/b"
   ]
  },
  {
   "cell_type": "code",
   "execution_count": 24,
   "id": "c0f03a4e",
   "metadata": {},
   "outputs": [
    {
     "data": {
      "text/plain": [
       "1.0"
      ]
     },
     "execution_count": 24,
     "metadata": {},
     "output_type": "execute_result"
    }
   ],
   "source": [
    "a//b"
   ]
  },
  {
   "cell_type": "code",
   "execution_count": 25,
   "id": "4ee141e0",
   "metadata": {},
   "outputs": [
    {
     "data": {
      "text/plain": [
       "5550.0"
      ]
     },
     "execution_count": 25,
     "metadata": {},
     "output_type": "execute_result"
    }
   ],
   "source": [
    "a*b"
   ]
  },
  {
   "cell_type": "code",
   "execution_count": 26,
   "id": "d7b6def9",
   "metadata": {},
   "outputs": [
    {
     "data": {
      "text/plain": [
       "1e+111"
      ]
     },
     "execution_count": 26,
     "metadata": {},
     "output_type": "execute_result"
    }
   ],
   "source": [
    "a**b"
   ]
  },
  {
   "cell_type": "code",
   "execution_count": null,
   "id": "dff16518",
   "metadata": {},
   "outputs": [],
   "source": []
  }
 ],
 "metadata": {
  "kernelspec": {
   "display_name": "Python 3 (ipykernel)",
   "language": "python",
   "name": "python3"
  },
  "language_info": {
   "codemirror_mode": {
    "name": "ipython",
    "version": 3
   },
   "file_extension": ".py",
   "mimetype": "text/x-python",
   "name": "python",
   "nbconvert_exporter": "python",
   "pygments_lexer": "ipython3",
   "version": "3.9.7"
  }
 },
 "nbformat": 4,
 "nbformat_minor": 5
}
