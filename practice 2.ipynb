{
 "cells": [
  {
   "cell_type": "code",
   "execution_count": 1,
   "id": "3bf06406",
   "metadata": {},
   "outputs": [
    {
     "name": "stdout",
     "output_type": "stream",
     "text": [
      "234 4595\n"
     ]
    }
   ],
   "source": [
    "print(234,4595)"
   ]
  },
  {
   "cell_type": "code",
   "execution_count": 2,
   "id": "673bbd5c",
   "metadata": {},
   "outputs": [
    {
     "name": "stdout",
     "output_type": "stream",
     "text": [
      "Hello world/tHello World2/tPakistan/tData Scientist\n"
     ]
    }
   ],
   "source": [
    "print(\"Hello world\", end=\"/t\")\n",
    "print(\"Hello World2\", end=\"/t\")\n",
    "print(\"Pakistan\", end=\"/t\")\n",
    "print(\"Data Scientist\")"
   ]
  },
  {
   "cell_type": "code",
   "execution_count": 3,
   "id": "22e4e80e",
   "metadata": {},
   "outputs": [
    {
     "data": {
      "text/plain": [
       "155.5"
      ]
     },
     "execution_count": 3,
     "metadata": {},
     "output_type": "execute_result"
    }
   ],
   "source": [
    "var1=100\n",
    "var2=55.5\n",
    "totall= var1+var2\n",
    "totall"
   ]
  },
  {
   "cell_type": "code",
   "execution_count": 4,
   "id": "b9445d1f",
   "metadata": {},
   "outputs": [],
   "source": [
    "name=\"farhan \"\n",
    "last_name=\"Younas\""
   ]
  },
  {
   "cell_type": "code",
   "execution_count": 5,
   "id": "0a6662d9",
   "metadata": {},
   "outputs": [],
   "source": [
    "full_name=name+last_name"
   ]
  },
  {
   "cell_type": "code",
   "execution_count": 6,
   "id": "6edd13b7",
   "metadata": {},
   "outputs": [
    {
     "data": {
      "text/plain": [
       "'farhan Younas'"
      ]
     },
     "execution_count": 6,
     "metadata": {},
     "output_type": "execute_result"
    }
   ],
   "source": [
    "full_name"
   ]
  },
  {
   "cell_type": "code",
   "execution_count": 7,
   "id": "dad8ad3e",
   "metadata": {},
   "outputs": [
    {
     "data": {
      "text/plain": [
       "str"
      ]
     },
     "execution_count": 7,
     "metadata": {},
     "output_type": "execute_result"
    }
   ],
   "source": [
    "type(name)"
   ]
  },
  {
   "cell_type": "code",
   "execution_count": 8,
   "id": "86541bd1",
   "metadata": {},
   "outputs": [
    {
     "data": {
      "text/plain": [
       "int"
      ]
     },
     "execution_count": 8,
     "metadata": {},
     "output_type": "execute_result"
    }
   ],
   "source": [
    "type(var1)"
   ]
  },
  {
   "cell_type": "code",
   "execution_count": 9,
   "id": "589d6491",
   "metadata": {},
   "outputs": [
    {
     "data": {
      "text/plain": [
       "float"
      ]
     },
     "execution_count": 9,
     "metadata": {},
     "output_type": "execute_result"
    }
   ],
   "source": [
    "type(var2)"
   ]
  },
  {
   "cell_type": "code",
   "execution_count": 10,
   "id": "bf8c65e1",
   "metadata": {},
   "outputs": [],
   "source": [
    "x=10\n",
    "y=20\n",
    "z=x+y"
   ]
  },
  {
   "cell_type": "code",
   "execution_count": 11,
   "id": "68343ca4",
   "metadata": {},
   "outputs": [
    {
     "data": {
      "text/plain": [
       "30"
      ]
     },
     "execution_count": 11,
     "metadata": {},
     "output_type": "execute_result"
    }
   ],
   "source": [
    "z"
   ]
  },
  {
   "cell_type": "code",
   "execution_count": 12,
   "id": "cba69fad",
   "metadata": {},
   "outputs": [
    {
     "data": {
      "text/plain": [
       "-10"
      ]
     },
     "execution_count": 12,
     "metadata": {},
     "output_type": "execute_result"
    }
   ],
   "source": [
    "x-y"
   ]
  },
  {
   "cell_type": "code",
   "execution_count": 13,
   "id": "b1dcbb96",
   "metadata": {},
   "outputs": [
    {
     "data": {
      "text/plain": [
       "200"
      ]
     },
     "execution_count": 13,
     "metadata": {},
     "output_type": "execute_result"
    }
   ],
   "source": [
    "x*y"
   ]
  },
  {
   "cell_type": "code",
   "execution_count": 14,
   "id": "20097886",
   "metadata": {},
   "outputs": [
    {
     "data": {
      "text/plain": [
       "0.5"
      ]
     },
     "execution_count": 14,
     "metadata": {},
     "output_type": "execute_result"
    }
   ],
   "source": [
    "x/y"
   ]
  },
  {
   "cell_type": "code",
   "execution_count": 15,
   "id": "99073fc1",
   "metadata": {},
   "outputs": [
    {
     "data": {
      "text/plain": [
       "0"
      ]
     },
     "execution_count": 15,
     "metadata": {},
     "output_type": "execute_result"
    }
   ],
   "source": [
    "x//y"
   ]
  },
  {
   "cell_type": "code",
   "execution_count": 16,
   "id": "c0dd17b6",
   "metadata": {},
   "outputs": [],
   "source": [
    "x=2"
   ]
  },
  {
   "cell_type": "code",
   "execution_count": 17,
   "id": "64c196de",
   "metadata": {},
   "outputs": [
    {
     "data": {
      "text/plain": [
       "2"
      ]
     },
     "execution_count": 17,
     "metadata": {},
     "output_type": "execute_result"
    }
   ],
   "source": [
    "x"
   ]
  },
  {
   "cell_type": "code",
   "execution_count": 18,
   "id": "bc54ecbe",
   "metadata": {},
   "outputs": [
    {
     "data": {
      "text/plain": [
       "4"
      ]
     },
     "execution_count": 18,
     "metadata": {},
     "output_type": "execute_result"
    }
   ],
   "source": [
    "x**x"
   ]
  },
  {
   "cell_type": "code",
   "execution_count": 19,
   "id": "220007b0",
   "metadata": {},
   "outputs": [
    {
     "data": {
      "text/plain": [
       "256"
      ]
     },
     "execution_count": 19,
     "metadata": {},
     "output_type": "execute_result"
    }
   ],
   "source": [
    "x=4\n",
    "x**x"
   ]
  },
  {
   "cell_type": "code",
   "execution_count": 20,
   "id": "e8bda25a",
   "metadata": {},
   "outputs": [
    {
     "data": {
      "text/plain": [
       "4"
      ]
     },
     "execution_count": 20,
     "metadata": {},
     "output_type": "execute_result"
    }
   ],
   "source": [
    "x"
   ]
  },
  {
   "cell_type": "code",
   "execution_count": 21,
   "id": "ed7bbefe",
   "metadata": {},
   "outputs": [],
   "source": [
    "Message=\"Hello python crash course world\""
   ]
  },
  {
   "cell_type": "code",
   "execution_count": 22,
   "id": "6702bc41",
   "metadata": {},
   "outputs": [
    {
     "data": {
      "text/plain": [
       "'Hello python crash course world'"
      ]
     },
     "execution_count": 22,
     "metadata": {},
     "output_type": "execute_result"
    }
   ],
   "source": [
    "Message"
   ]
  },
  {
   "cell_type": "code",
   "execution_count": 23,
   "id": "7e317d4d",
   "metadata": {},
   "outputs": [],
   "source": [
    "Message=\"Hi i am here to learn python\""
   ]
  },
  {
   "cell_type": "code",
   "execution_count": 24,
   "id": "8fcfea87",
   "metadata": {},
   "outputs": [
    {
     "data": {
      "text/plain": [
       "'Hi i am here to learn python'"
      ]
     },
     "execution_count": 24,
     "metadata": {},
     "output_type": "execute_result"
    }
   ],
   "source": [
    "Message"
   ]
  },
  {
   "cell_type": "code",
   "execution_count": 25,
   "id": "38976085",
   "metadata": {},
   "outputs": [
    {
     "name": "stdout",
     "output_type": "stream",
     "text": [
      "Farhan\n"
     ]
    }
   ],
   "source": [
    "name=\"farhan\"\n",
    "\n",
    "print(name.title())"
   ]
  },
  {
   "cell_type": "code",
   "execution_count": 26,
   "id": "2d234f29",
   "metadata": {},
   "outputs": [],
   "source": [
    "Student_Name=\"farhan younas\""
   ]
  },
  {
   "cell_type": "code",
   "execution_count": 27,
   "id": "13ae6b44",
   "metadata": {},
   "outputs": [
    {
     "name": "stdout",
     "output_type": "stream",
     "text": [
      "FARHAN YOUNAS\n",
      "farhan younas\n"
     ]
    }
   ],
   "source": [
    "print(Student_Name.upper())\n",
    "print(Student_Name.lower())"
   ]
  },
  {
   "cell_type": "code",
   "execution_count": 28,
   "id": "399f4a1e",
   "metadata": {},
   "outputs": [
    {
     "name": "stdout",
     "output_type": "stream",
     "text": [
      "Farhan Younas\n"
     ]
    }
   ],
   "source": [
    "First_Name=\"Farhan\"\n",
    "Last_Name=\"Younas\"\n",
    "Full_Name=f\"{First_Name} {Last_Name}\"\n",
    "print(Full_Name)"
   ]
  },
  {
   "cell_type": "code",
   "execution_count": 29,
   "id": "6049282b",
   "metadata": {},
   "outputs": [
    {
     "name": "stdout",
     "output_type": "stream",
     "text": [
      "One of Python's strengths is its diverse community.\n"
     ]
    }
   ],
   "source": [
    "message=\"One of Python's strengths is its diverse community.\"\n",
    "print(message)"
   ]
  },
  {
   "cell_type": "markdown",
   "id": "57281522",
   "metadata": {},
   "source": [
    "# Personal Message: Use a variable to represent a person’s name, and print\n",
    "# a message to that person. Your message should be simple, such as, “Hello Eric,\n",
    "# would you like to learn some Python today?”"
   ]
  },
  {
   "cell_type": "code",
   "execution_count": 30,
   "id": "e66db35f",
   "metadata": {},
   "outputs": [
    {
     "name": "stdout",
     "output_type": "stream",
     "text": [
      "Hello Farhan would you like to learn some Python today?\n"
     ]
    }
   ],
   "source": [
    "Name=\"Farhan\"\n",
    "message= \"would you like to learn some Python today?\"\n",
    "print(\"Hello\", Name.title() , message)"
   ]
  },
  {
   "cell_type": "code",
   "execution_count": 31,
   "id": "0292cde7",
   "metadata": {},
   "outputs": [
    {
     "name": "stdout",
     "output_type": "stream",
     "text": [
      "FARHAN YOUNAS\n",
      "farhan younas\n",
      "Farhan Younas\n"
     ]
    }
   ],
   "source": [
    "student_name=\"farhan younas\"\n",
    "print(student_name.upper())\n",
    "print(student_name.lower())\n",
    "print(student_name.title())"
   ]
  },
  {
   "cell_type": "code",
   "execution_count": 32,
   "id": "93b320a6",
   "metadata": {},
   "outputs": [
    {
     "name": "stdout",
     "output_type": "stream",
     "text": [
      "1 2\n"
     ]
    }
   ],
   "source": [
    "print(1,2)"
   ]
  },
  {
   "cell_type": "code",
   "execution_count": 33,
   "id": "d65429aa",
   "metadata": {},
   "outputs": [
    {
     "name": "stdout",
     "output_type": "stream",
     "text": [
      "1 2 3 4 5 5\n"
     ]
    }
   ],
   "source": [
    "print(1,2,3,4,5,5)"
   ]
  },
  {
   "cell_type": "code",
   "execution_count": 34,
   "id": "377fa239",
   "metadata": {},
   "outputs": [
    {
     "name": "stdout",
     "output_type": "stream",
     "text": [
      "Leo\n"
     ]
    }
   ],
   "source": [
    "print(\"Leo\")"
   ]
  },
  {
   "cell_type": "code",
   "execution_count": 35,
   "id": "a6181891",
   "metadata": {},
   "outputs": [
    {
     "name": "stdout",
     "output_type": "stream",
     "text": [
      "asad Ali leo\n"
     ]
    }
   ],
   "source": [
    "print(\"asad\",\"Ali\",\"leo\")"
   ]
  },
  {
   "cell_type": "code",
   "execution_count": 36,
   "id": "936720a5",
   "metadata": {},
   "outputs": [
    {
     "name": "stdout",
     "output_type": "stream",
     "text": [
      "data 45\n"
     ]
    }
   ],
   "source": [
    "print(\"data\",45)"
   ]
  },
  {
   "cell_type": "code",
   "execution_count": 37,
   "id": "e9ae6045",
   "metadata": {},
   "outputs": [
    {
     "name": "stdout",
     "output_type": "stream",
     "text": [
      "Pakistan\t\tPakistan\t\tPakistan\t\tPakistan\t\tPakistan\n"
     ]
    }
   ],
   "source": [
    "print(\"Pakistan\", sep=\"\",end='\\t\\t')\n",
    "print(\"Pakistan\",end='\\t\\t')\n",
    "print(\"Pakistan\",end='\\t\\t')\n",
    "print(\"Pakistan\",end='\\t\\t')\n",
    "print(\"Pakistan\")\n"
   ]
  },
  {
   "cell_type": "code",
   "execution_count": 38,
   "id": "2d88c2ab",
   "metadata": {},
   "outputs": [],
   "source": [
    "name=\"Farhan\""
   ]
  },
  {
   "cell_type": "code",
   "execution_count": 39,
   "id": "eb6b6092",
   "metadata": {},
   "outputs": [
    {
     "name": "stdout",
     "output_type": "stream",
     "text": [
      "Farhan\n"
     ]
    }
   ],
   "source": [
    "print(name)"
   ]
  },
  {
   "cell_type": "code",
   "execution_count": 40,
   "id": "fc53b1a4",
   "metadata": {},
   "outputs": [],
   "source": [
    "name=\"Data Scientist\""
   ]
  },
  {
   "cell_type": "code",
   "execution_count": 41,
   "id": "b6731f58",
   "metadata": {},
   "outputs": [
    {
     "name": "stdout",
     "output_type": "stream",
     "text": [
      "Data Scientist\n"
     ]
    }
   ],
   "source": [
    "print(name)"
   ]
  },
  {
   "cell_type": "code",
   "execution_count": 42,
   "id": "a56c8094",
   "metadata": {},
   "outputs": [],
   "source": [
    "thanks=\"Thanks for your input\""
   ]
  },
  {
   "cell_type": "code",
   "execution_count": 43,
   "id": "0d79f4da",
   "metadata": {},
   "outputs": [
    {
     "name": "stdout",
     "output_type": "stream",
     "text": [
      "Thanks for your input\n"
     ]
    }
   ],
   "source": [
    "print(thanks)"
   ]
  },
  {
   "cell_type": "code",
   "execution_count": 44,
   "id": "1f42b4a6",
   "metadata": {},
   "outputs": [],
   "source": [
    "number = 4"
   ]
  },
  {
   "cell_type": "code",
   "execution_count": 45,
   "id": "dc031d46",
   "metadata": {},
   "outputs": [
    {
     "data": {
      "text/plain": [
       "4"
      ]
     },
     "execution_count": 45,
     "metadata": {},
     "output_type": "execute_result"
    }
   ],
   "source": [
    "number"
   ]
  },
  {
   "cell_type": "code",
   "execution_count": 46,
   "id": "b81b193f",
   "metadata": {},
   "outputs": [],
   "source": [
    "total_num = 2+2"
   ]
  },
  {
   "cell_type": "code",
   "execution_count": 47,
   "id": "0d0137a5",
   "metadata": {},
   "outputs": [
    {
     "data": {
      "text/plain": [
       "4"
      ]
     },
     "execution_count": 47,
     "metadata": {},
     "output_type": "execute_result"
    }
   ],
   "source": [
    "total_num"
   ]
  },
  {
   "cell_type": "code",
   "execution_count": 48,
   "id": "b3b06fc8",
   "metadata": {},
   "outputs": [
    {
     "name": "stdout",
     "output_type": "stream",
     "text": [
      "4\n"
     ]
    }
   ],
   "source": [
    "print(2+2)"
   ]
  },
  {
   "cell_type": "code",
   "execution_count": 49,
   "id": "e46812ac",
   "metadata": {},
   "outputs": [],
   "source": [
    "dozen= 3*30"
   ]
  },
  {
   "cell_type": "code",
   "execution_count": 50,
   "id": "6b8c8f48",
   "metadata": {},
   "outputs": [
    {
     "data": {
      "text/plain": [
       "90"
      ]
     },
     "execution_count": 50,
     "metadata": {},
     "output_type": "execute_result"
    }
   ],
   "source": [
    "dozen"
   ]
  },
  {
   "cell_type": "code",
   "execution_count": 51,
   "id": "8375d413",
   "metadata": {},
   "outputs": [],
   "source": [
    "loss = 12-30"
   ]
  },
  {
   "cell_type": "code",
   "execution_count": 52,
   "id": "3157ad05",
   "metadata": {},
   "outputs": [
    {
     "data": {
      "text/plain": [
       "-18"
      ]
     },
     "execution_count": 52,
     "metadata": {},
     "output_type": "execute_result"
    }
   ],
   "source": [
    "loss\n"
   ]
  },
  {
   "cell_type": "code",
   "execution_count": 53,
   "id": "c386ea11",
   "metadata": {},
   "outputs": [],
   "source": [
    "div = 100/3"
   ]
  },
  {
   "cell_type": "code",
   "execution_count": 54,
   "id": "601ed66c",
   "metadata": {},
   "outputs": [
    {
     "data": {
      "text/plain": [
       "33.333333333333336"
      ]
     },
     "execution_count": 54,
     "metadata": {},
     "output_type": "execute_result"
    }
   ],
   "source": [
    "div"
   ]
  },
  {
   "cell_type": "code",
   "execution_count": 55,
   "id": "36322fbb",
   "metadata": {},
   "outputs": [],
   "source": [
    "num = 0.8989\n",
    "total = num +200"
   ]
  },
  {
   "cell_type": "code",
   "execution_count": 56,
   "id": "f3b76c63",
   "metadata": {},
   "outputs": [
    {
     "data": {
      "text/plain": [
       "200.8989"
      ]
     },
     "execution_count": 56,
     "metadata": {},
     "output_type": "execute_result"
    }
   ],
   "source": [
    "total"
   ]
  },
  {
   "cell_type": "code",
   "execution_count": 57,
   "id": "37e533f3",
   "metadata": {},
   "outputs": [
    {
     "ename": "SyntaxError",
     "evalue": "positional argument follows keyword argument (Temp/ipykernel_6900/4086489996.py, line 1)",
     "output_type": "error",
     "traceback": [
      "\u001b[1;36m  File \u001b[1;32m\"C:\\Users\\Leo\\AppData\\Local\\Temp/ipykernel_6900/4086489996.py\"\u001b[1;36m, line \u001b[1;32m1\u001b[0m\n\u001b[1;33m    print(x=10,y=20,x*y)\u001b[0m\n\u001b[1;37m                       ^\u001b[0m\n\u001b[1;31mSyntaxError\u001b[0m\u001b[1;31m:\u001b[0m positional argument follows keyword argument\n"
     ]
    }
   ],
   "source": [
    "print(x=10,y=20,x*y)"
   ]
  },
  {
   "cell_type": "code",
   "execution_count": null,
   "id": "2e070878",
   "metadata": {},
   "outputs": [],
   "source": [
    "x=10\n",
    "y=19\n",
    "if x>=10:\n",
    "    print(\"ok\")"
   ]
  },
  {
   "cell_type": "code",
   "execution_count": null,
   "id": "61fad59c",
   "metadata": {},
   "outputs": [],
   "source": [
    "num1=int(input(\"Enter 1st number\\n\"))\n",
    "num2=int(input(\"Enter 2nd number\\n\"))\n",
    "totall= num1+num2\n",
    "print(\"totall number is\",totall, end=\"\\n\")"
   ]
  },
  {
   "cell_type": "code",
   "execution_count": 59,
   "id": "c2e661f3",
   "metadata": {},
   "outputs": [
    {
     "name": "stdout",
     "output_type": "stream",
     "text": [
      "Press 1 for Addition2\n",
      "Press 2 for Multiplication3\n",
      "Press 3 for subtraction4\n",
      "Press 4 for division5\n"
     ]
    },
    {
     "data": {
      "text/plain": [
       "5"
      ]
     },
     "execution_count": 59,
     "metadata": {},
     "output_type": "execute_result"
    }
   ],
   "source": [
    "int(input(\"Press 1 for Addition\"))\n",
    "int(input(\"Press 2 for Multiplication\"))\n",
    "int(input(\"Press 3 for subtraction\"))\n",
    "int(input(\"Press 4 for division\"))\n"
   ]
  },
  {
   "cell_type": "code",
   "execution_count": null,
   "id": "5ec34cc9",
   "metadata": {},
   "outputs": [],
   "source": [
    "print(\"leo\")"
   ]
  },
  {
   "cell_type": "code",
   "execution_count": null,
   "id": "71b20b32",
   "metadata": {},
   "outputs": [],
   "source": []
  }
 ],
 "metadata": {
  "kernelspec": {
   "display_name": "Python 3 (ipykernel)",
   "language": "python",
   "name": "python3"
  },
  "language_info": {
   "codemirror_mode": {
    "name": "ipython",
    "version": 3
   },
   "file_extension": ".py",
   "mimetype": "text/x-python",
   "name": "python",
   "nbconvert_exporter": "python",
   "pygments_lexer": "ipython3",
   "version": "3.9.7"
  }
 },
 "nbformat": 4,
 "nbformat_minor": 5
}
