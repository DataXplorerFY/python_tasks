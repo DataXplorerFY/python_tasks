{
 "cells": [
  {
   "cell_type": "markdown",
   "id": "adcae2e1",
   "metadata": {},
   "source": [
    "# Variables are container that stores valuesm, it can be changed\n",
    "# variables can be used in different ways\n"
   ]
  },
  {
   "cell_type": "code",
   "execution_count": 3,
   "id": "de69e44c",
   "metadata": {},
   "outputs": [],
   "source": [
    "a= 10           # a is variable name (identifier)\n",
    "                   #10 value is assign to variable a"
   ]
  },
  {
   "cell_type": "code",
   "execution_count": 4,
   "id": "68e7a097",
   "metadata": {},
   "outputs": [
    {
     "name": "stdout",
     "output_type": "stream",
     "text": [
      "10\n"
     ]
    }
   ],
   "source": [
    "print(a)"
   ]
  },
  {
   "cell_type": "code",
   "execution_count": 5,
   "id": "4f6a7991",
   "metadata": {},
   "outputs": [],
   "source": [
    "a=10.6 #here the value of (a)is overrided"
   ]
  },
  {
   "cell_type": "code",
   "execution_count": 6,
   "id": "1da12e1a",
   "metadata": {},
   "outputs": [
    {
     "name": "stdout",
     "output_type": "stream",
     "text": [
      "10.6\n"
     ]
    }
   ],
   "source": [
    "print(a)"
   ]
  },
  {
   "cell_type": "code",
   "execution_count": 7,
   "id": "01123f77",
   "metadata": {},
   "outputs": [
    {
     "data": {
      "text/plain": [
       "float"
      ]
     },
     "execution_count": 7,
     "metadata": {},
     "output_type": "execute_result"
    }
   ],
   "source": [
    "type(a)"
   ]
  },
  {
   "cell_type": "code",
   "execution_count": 8,
   "id": "bcf23e01",
   "metadata": {},
   "outputs": [],
   "source": [
    "city=\"karachi\""
   ]
  },
  {
   "cell_type": "code",
   "execution_count": 9,
   "id": "5109616d",
   "metadata": {},
   "outputs": [
    {
     "data": {
      "text/plain": [
       "'karachi'"
      ]
     },
     "execution_count": 9,
     "metadata": {},
     "output_type": "execute_result"
    }
   ],
   "source": [
    "city"
   ]
  },
  {
   "cell_type": "code",
   "execution_count": 10,
   "id": "8eaf3b55",
   "metadata": {},
   "outputs": [
    {
     "data": {
      "text/plain": [
       "str"
      ]
     },
     "execution_count": 10,
     "metadata": {},
     "output_type": "execute_result"
    }
   ],
   "source": [
    "type(city)"
   ]
  },
  {
   "cell_type": "code",
   "execution_count": 12,
   "id": "683e2ab5",
   "metadata": {},
   "outputs": [],
   "source": [
    "Student_Name=\"Farhan\"\n",
    "\n",
    "Father_Name=\"Younas\""
   ]
  },
  {
   "cell_type": "code",
   "execution_count": 16,
   "id": "e599c33b",
   "metadata": {},
   "outputs": [
    {
     "name": "stdout",
     "output_type": "stream",
     "text": [
      "FarhanYounas\n"
     ]
    }
   ],
   "source": [
    "print(Student_Name + Father_Name)"
   ]
  },
  {
   "cell_type": "code",
   "execution_count": 17,
   "id": "dd5e86b0",
   "metadata": {},
   "outputs": [
    {
     "name": "stdout",
     "output_type": "stream",
     "text": [
      "30\n"
     ]
    }
   ],
   "source": [
    "num1=10\n",
    "num2=20\n",
    "sum=num1+num2\n",
    "\n",
    "print(sum)"
   ]
  },
  {
   "cell_type": "code",
   "execution_count": null,
   "id": "f21aa26b",
   "metadata": {},
   "outputs": [],
   "source": []
  }
 ],
 "metadata": {
  "kernelspec": {
   "display_name": "Python 3 (ipykernel)",
   "language": "python",
   "name": "python3"
  },
  "language_info": {
   "codemirror_mode": {
    "name": "ipython",
    "version": 3
   },
   "file_extension": ".py",
   "mimetype": "text/x-python",
   "name": "python",
   "nbconvert_exporter": "python",
   "pygments_lexer": "ipython3",
   "version": "3.9.7"
  }
 },
 "nbformat": 4,
 "nbformat_minor": 5
}
