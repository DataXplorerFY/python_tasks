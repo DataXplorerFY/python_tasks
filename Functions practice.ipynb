{
 "cells": [
  {
   "cell_type": "markdown",
   "id": "2c4271ec",
   "metadata": {},
   "source": [
    "# Write a function that takes two numbers as arguments and returns their sum."
   ]
  },
  {
   "cell_type": "code",
   "execution_count": 4,
   "id": "f7ef3d24",
   "metadata": {},
   "outputs": [
    {
     "data": {
      "text/plain": [
       "30"
      ]
     },
     "execution_count": 4,
     "metadata": {},
     "output_type": "execute_result"
    }
   ],
   "source": [
    "def sum(n1,n2):\n",
    "    totall = n1+n2\n",
    "    return totall\n",
    "sum(10,20)"
   ]
  },
  {
   "cell_type": "markdown",
   "id": "eb65d9db",
   "metadata": {},
   "source": [
    "# Write a function that takes a string as an argument and returns the length of the string."
   ]
  },
  {
   "cell_type": "code",
   "execution_count": 6,
   "id": "0a9d606b",
   "metadata": {},
   "outputs": [
    {
     "data": {
      "text/plain": [
       "22"
      ]
     },
     "execution_count": 6,
     "metadata": {},
     "output_type": "execute_result"
    }
   ],
   "source": [
    "def string(Str):\n",
    "    words=len(Str)\n",
    "    return words\n",
    "string(\"Hey my name is farhan \")"
   ]
  },
  {
   "cell_type": "markdown",
   "id": "018af9ed",
   "metadata": {},
   "source": [
    "# Write a function that takes a list of numbers as an argument and returns the largest number in the list."
   ]
  },
  {
   "cell_type": "code",
   "execution_count": 9,
   "id": "595492cc",
   "metadata": {},
   "outputs": [],
   "source": [
    "def find_largest_number(numbers):\n",
    "    if not numbers:\n",
    "        return None\n",
    "    largest = numbers[0]\n",
    "    for num in numbers:\n",
    "        if num > largest:\n",
    "            largest = num\n",
    "            \n",
    "    return largest"
   ]
  },
  {
   "cell_type": "code",
   "execution_count": 10,
   "id": "cff7fcff",
   "metadata": {},
   "outputs": [
    {
     "name": "stdout",
     "output_type": "stream",
     "text": [
      "20\n"
     ]
    }
   ],
   "source": [
    "numbers_list = [10, 5, 20, 15, 8]\n",
    "largest_number = find_largest_number(numbers_list)\n",
    "print(largest_number)"
   ]
  },
  {
   "cell_type": "code",
   "execution_count": 12,
   "id": "56f5e9fa",
   "metadata": {},
   "outputs": [
    {
     "data": {
      "text/plain": [
       "80"
      ]
     },
     "execution_count": 12,
     "metadata": {},
     "output_type": "execute_result"
    }
   ],
   "source": [
    "def large_num(number):\n",
    "    if not number:\n",
    "        return None\n",
    "    largest=number[0]\n",
    "    for num in number:\n",
    "        if num>largest:\n",
    "            largest=num\n",
    "    return largest\n",
    "large_num([20,70,80])"
   ]
  },
  {
   "cell_type": "markdown",
   "id": "6bcae506",
   "metadata": {},
   "source": [
    "# Write a function that takes a list of strings as an argument and returns a new list with all the strings capitalized."
   ]
  },
  {
   "cell_type": "code",
   "execution_count": 18,
   "id": "b10f6f14",
   "metadata": {},
   "outputs": [
    {
     "data": {
      "text/plain": [
       "'HEY, THIS IS FARHAN'"
      ]
     },
     "execution_count": 18,
     "metadata": {},
     "output_type": "execute_result"
    }
   ],
   "source": [
    "def String_capitalized(string_List):\n",
    "    words=string_List.upper()\n",
    "    return words\n",
    "String_capitalized(\"Hey, This is Farhan\")"
   ]
  },
  {
   "cell_type": "code",
   "execution_count": 16,
   "id": "f4cc6012",
   "metadata": {},
   "outputs": [
    {
     "name": "stdout",
     "output_type": "stream",
     "text": [
      "['HEY', 'THIS', 'IS', 'FARHAN']\n"
     ]
    }
   ],
   "source": [
    "def capitalize_strings(string_list):\n",
    "    capitalized_list = []\n",
    "    for string in string_list:\n",
    "        capitalized_string = string.upper()\n",
    "        capitalized_list.append(capitalized_string)\n",
    "    return capitalized_list\n",
    "\n",
    "string_list = [\"Hey\", \"This\", \"is\", \"Farhan\"]\n",
    "capitalized_list = capitalize_strings(string_list)\n",
    "print(capitalized_list)\n"
   ]
  },
  {
   "cell_type": "code",
   "execution_count": 20,
   "id": "91d1e984",
   "metadata": {},
   "outputs": [
    {
     "data": {
      "text/plain": [
       "['FARHAN IS A GOOD BOY']"
      ]
     },
     "execution_count": 20,
     "metadata": {},
     "output_type": "execute_result"
    }
   ],
   "source": [
    "def capitalize_string(List_string):\n",
    "    capitalize_list=[]\n",
    "    for string in List_string:\n",
    "        capitalize_string=string.upper()\n",
    "        capitalize_list.append(capitalize_string)\n",
    "        return capitalize_list\n",
    "capitalize_string(['FARHAN IS A GOOD BOY'])"
   ]
  },
  {
   "cell_type": "markdown",
   "id": "e49d9e30",
   "metadata": {},
   "source": [
    "# Write a function that takes a string as an argument and returns the string reversed."
   ]
  },
  {
   "cell_type": "code",
   "execution_count": 22,
   "id": "09147bc0",
   "metadata": {},
   "outputs": [
    {
     "data": {
      "text/plain": [
       "'nahraf'"
      ]
     },
     "execution_count": 22,
     "metadata": {},
     "output_type": "execute_result"
    }
   ],
   "source": [
    "def rev_str(string):\n",
    "    revString= string[::-1]\n",
    "    return revString\n",
    "rev_str(\"farhan\")"
   ]
  },
  {
   "cell_type": "markdown",
   "id": "9edcf7fd",
   "metadata": {},
   "source": [
    "# Write a function that takes a list of numbers as an argument and returns the sum of all the numbers in the list.\n"
   ]
  },
  {
   "cell_type": "code",
   "execution_count": 24,
   "id": "5ec2a08a",
   "metadata": {},
   "outputs": [
    {
     "data": {
      "text/plain": [
       "28"
      ]
     },
     "execution_count": 24,
     "metadata": {},
     "output_type": "execute_result"
    }
   ],
   "source": [
    "def sum_of_num(list_num):\n",
    "    result=0\n",
    "    for num in list_num:\n",
    "        result=result+num\n",
    "    return result\n",
    "sum_of_num([1,2,3,4,5,6,7])"
   ]
  },
  {
   "cell_type": "markdown",
   "id": "5a498cec",
   "metadata": {},
   "source": [
    "# Write a function that takes a list of strings as an argument and returns a new list with all the strings that start with the letter 'a'."
   ]
  },
  {
   "cell_type": "code",
   "execution_count": 27,
   "id": "e5c9fe5b",
   "metadata": {},
   "outputs": [
    {
     "name": "stdout",
     "output_type": "stream",
     "text": [
      "['apple', 'avocado']\n"
     ]
    }
   ],
   "source": [
    "def filter_strings_starting_with_a(string_list):\n",
    "    filtered_list = []\n",
    "    for string in string_list:\n",
    "        if string.lower().startswith('a'):\n",
    "            filtered_list.append(string)\n",
    "    return filtered_list\n",
    "\n",
    "\n",
    "string_list = ['apple', 'banana', 'avocado', 'orange']\n",
    "filtered_strings = filter_strings_starting_with_a(string_list)\n",
    "print(filtered_strings)\n"
   ]
  },
  {
   "cell_type": "code",
   "execution_count": null,
   "id": "98cf2786",
   "metadata": {},
   "outputs": [],
   "source": []
  }
 ],
 "metadata": {
  "kernelspec": {
   "display_name": "Python 3 (ipykernel)",
   "language": "python",
   "name": "python3"
  },
  "language_info": {
   "codemirror_mode": {
    "name": "ipython",
    "version": 3
   },
   "file_extension": ".py",
   "mimetype": "text/x-python",
   "name": "python",
   "nbconvert_exporter": "python",
   "pygments_lexer": "ipython3",
   "version": "3.9.7"
  }
 },
 "nbformat": 4,
 "nbformat_minor": 5
}
