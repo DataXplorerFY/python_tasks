{
 "cells": [
  {
   "cell_type": "markdown",
   "id": "0ff36c43",
   "metadata": {},
   "source": [
    "# Concatenation"
   ]
  },
  {
   "cell_type": "code",
   "execution_count": 1,
   "id": "f0e340cd",
   "metadata": {},
   "outputs": [
    {
     "name": "stdout",
     "output_type": "stream",
     "text": [
      "Hello, World\n"
     ]
    }
   ],
   "source": [
    "print(\"Hello, World\")"
   ]
  },
  {
   "cell_type": "code",
   "execution_count": 2,
   "id": "edd3e1cf",
   "metadata": {},
   "outputs": [],
   "source": [
    "greeting = \" Hello World!\""
   ]
  },
  {
   "cell_type": "code",
   "execution_count": 3,
   "id": "fe67f508",
   "metadata": {},
   "outputs": [
    {
     "name": "stdout",
     "output_type": "stream",
     "text": [
      " Hello World!\n"
     ]
    }
   ],
   "source": [
    "print(greeting)"
   ]
  },
  {
   "cell_type": "code",
   "execution_count": 9,
   "id": "ec60147f",
   "metadata": {},
   "outputs": [],
   "source": [
    "greeting=\" Hello \""
   ]
  },
  {
   "cell_type": "code",
   "execution_count": 10,
   "id": "743043f8",
   "metadata": {},
   "outputs": [],
   "source": [
    "adressess=\"World\""
   ]
  },
  {
   "cell_type": "code",
   "execution_count": 11,
   "id": "3f8fae62",
   "metadata": {},
   "outputs": [],
   "source": [
    "whole_word= greeting+adressess"
   ]
  },
  {
   "cell_type": "code",
   "execution_count": 12,
   "id": "1ac0e1c9",
   "metadata": {},
   "outputs": [
    {
     "name": "stdout",
     "output_type": "stream",
     "text": [
      " Hello World\n"
     ]
    }
   ],
   "source": [
    "print(whole_word)"
   ]
  },
  {
   "cell_type": "code",
   "execution_count": 13,
   "id": "b7315bbe",
   "metadata": {},
   "outputs": [],
   "source": [
    "greeting = \"Hello\""
   ]
  },
  {
   "cell_type": "code",
   "execution_count": 14,
   "id": "6240e818",
   "metadata": {},
   "outputs": [],
   "source": [
    "sep= \",\""
   ]
  },
  {
   "cell_type": "code",
   "execution_count": 15,
   "id": "2290486f",
   "metadata": {},
   "outputs": [],
   "source": [
    "adressess=\"World\""
   ]
  },
  {
   "cell_type": "code",
   "execution_count": 16,
   "id": "2f06dc24",
   "metadata": {},
   "outputs": [],
   "source": [
    "punc= \"!\""
   ]
  },
  {
   "cell_type": "code",
   "execution_count": 17,
   "id": "31213b8c",
   "metadata": {},
   "outputs": [],
   "source": [
    "whole_word= greeting+sep+adressess+punc"
   ]
  },
  {
   "cell_type": "code",
   "execution_count": 18,
   "id": "b97d036f",
   "metadata": {},
   "outputs": [
    {
     "name": "stdout",
     "output_type": "stream",
     "text": [
      "Hello,World!\n"
     ]
    }
   ],
   "source": [
    "print(whole_word)"
   ]
  },
  {
   "cell_type": "code",
   "execution_count": 19,
   "id": "b5be21e0",
   "metadata": {},
   "outputs": [
    {
     "name": "stdout",
     "output_type": "stream",
     "text": [
      "Hello, World!\n"
     ]
    }
   ],
   "source": [
    "print(\"Hello, \" + \"World!\")\n"
   ]
  },
  {
   "cell_type": "code",
   "execution_count": 21,
   "id": "e94e35d4",
   "metadata": {},
   "outputs": [
    {
     "name": "stdout",
     "output_type": "stream",
     "text": [
      "The sum of 2 + 2 is 4\n"
     ]
    }
   ],
   "source": [
    "print(\"The sum of 2 + 2 is \" + \"4\")"
   ]
  },
  {
   "cell_type": "code",
   "execution_count": 22,
   "id": "b445caf0",
   "metadata": {},
   "outputs": [],
   "source": [
    "x=\"10\"\n",
    "y=\"20\"\n",
    "z=\"30\"\n",
    "Total=x+y+z"
   ]
  },
  {
   "cell_type": "code",
   "execution_count": 23,
   "id": "08956cef",
   "metadata": {},
   "outputs": [
    {
     "data": {
      "text/plain": [
       "'102030'"
      ]
     },
     "execution_count": 23,
     "metadata": {},
     "output_type": "execute_result"
    }
   ],
   "source": [
    "Total"
   ]
  },
  {
   "cell_type": "code",
   "execution_count": 25,
   "id": "74555a95",
   "metadata": {},
   "outputs": [
    {
     "name": "stdout",
     "output_type": "stream",
     "text": [
      "Hello World!\n"
     ]
    }
   ],
   "source": [
    "first_word = \"Hello\"  \n",
    "second_word = \"World!\"\n",
    "print(first_word+\" \" +second_word)"
   ]
  },
  {
   "cell_type": "code",
   "execution_count": 27,
   "id": "27b0f3df",
   "metadata": {},
   "outputs": [
    {
     "name": "stdout",
     "output_type": "stream",
     "text": [
      "Leo Farhan!\n"
     ]
    }
   ],
   "source": [
    "x=\"Leo \"\n",
    "y=\"Farhan\"\n",
    "z=\"!\"\n",
    "Finaly= x + y + z\n",
    "print(Finaly)"
   ]
  },
  {
   "cell_type": "code",
   "execution_count": null,
   "id": "5f5df8c9",
   "metadata": {},
   "outputs": [],
   "source": []
  }
 ],
 "metadata": {
  "kernelspec": {
   "display_name": "Python 3 (ipykernel)",
   "language": "python",
   "name": "python3"
  },
  "language_info": {
   "codemirror_mode": {
    "name": "ipython",
    "version": 3
   },
   "file_extension": ".py",
   "mimetype": "text/x-python",
   "name": "python",
   "nbconvert_exporter": "python",
   "pygments_lexer": "ipython3",
   "version": "3.9.7"
  }
 },
 "nbformat": 4,
 "nbformat_minor": 5
}
