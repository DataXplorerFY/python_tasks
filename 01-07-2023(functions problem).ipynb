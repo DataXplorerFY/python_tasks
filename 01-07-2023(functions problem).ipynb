{
 "cells": [
  {
   "cell_type": "markdown",
   "id": "e6c456be",
   "metadata": {},
   "source": [
    "# Write a function called add_numbers that takes two numbers as parameters and returns their sum."
   ]
  },
  {
   "cell_type": "code",
   "execution_count": 2,
   "id": "177ecb9d",
   "metadata": {},
   "outputs": [
    {
     "data": {
      "text/plain": [
       "30"
      ]
     },
     "execution_count": 2,
     "metadata": {},
     "output_type": "execute_result"
    }
   ],
   "source": [
    "def add_numbers(n1, n2):\n",
    "    return (n1 + n2)\n",
    "add_numbers(10, 20)\n"
   ]
  },
  {
   "cell_type": "markdown",
   "id": "33c83ca6",
   "metadata": {},
   "source": [
    "# Write a function called is_even that takes a number as a parameter and returns True if it's even, and False otherwise."
   ]
  },
  {
   "cell_type": "code",
   "execution_count": 4,
   "id": "984f4965",
   "metadata": {},
   "outputs": [
    {
     "name": "stdout",
     "output_type": "stream",
     "text": [
      "True\n"
     ]
    }
   ],
   "source": [
    "def is_even(n=4):\n",
    "    if n%2==0:\n",
    "        print(\"True\")\n",
    "    else:\n",
    "        print(\"false\")\n",
    "is_even()"
   ]
  },
  {
   "cell_type": "markdown",
   "id": "6a8703e0",
   "metadata": {},
   "source": [
    "# Write a function called multiply_list that takes a list of numbers as a parameter and returns the product of all the numbers in the list."
   ]
  },
  {
   "cell_type": "code",
   "execution_count": 7,
   "id": "a0338d0c",
   "metadata": {},
   "outputs": [],
   "source": [
    "def multiply_list(numbers=[2, 3, 4, 5]):\n",
    "    result=1\n",
    "    for num in numbers:\n",
    "        result*=num\n",
    "    return result\n",
    "        "
   ]
  },
  {
   "cell_type": "code",
   "execution_count": 8,
   "id": "d321d0bd",
   "metadata": {},
   "outputs": [
    {
     "data": {
      "text/plain": [
       "120"
      ]
     },
     "execution_count": 8,
     "metadata": {},
     "output_type": "execute_result"
    }
   ],
   "source": [
    "multiply_list()"
   ]
  },
  {
   "cell_type": "markdown",
   "id": "ab95aa16",
   "metadata": {},
   "source": [
    "# Write a function called count_words that takes a string as a parameter and returns the number of words in the string. Assume that words are separated by spaces."
   ]
  },
  {
   "cell_type": "code",
   "execution_count": 26,
   "id": "64a35e70",
   "metadata": {},
   "outputs": [],
   "source": [
    "def count_words(name=\"f a r h a n\"):\n",
    "    words=name.split()\n",
    "    return len(words)\n",
    "   "
   ]
  },
  {
   "cell_type": "code",
   "execution_count": 27,
   "id": "07f518a5",
   "metadata": {},
   "outputs": [
    {
     "data": {
      "text/plain": [
       "6"
      ]
     },
     "execution_count": 27,
     "metadata": {},
     "output_type": "execute_result"
    }
   ],
   "source": [
    "count_words()"
   ]
  },
  {
   "cell_type": "code",
   "execution_count": 28,
   "id": "9a428c82",
   "metadata": {},
   "outputs": [
    {
     "data": {
      "text/plain": [
       "4"
      ]
     },
     "execution_count": 28,
     "metadata": {},
     "output_type": "execute_result"
    }
   ],
   "source": [
    "def count_words(String=\"Hey, this is farhan\"):\n",
    "    words=String.split()\n",
    "    return len(words)\n",
    "count_words()"
   ]
  },
  {
   "cell_type": "markdown",
   "id": "78268a34",
   "metadata": {},
   "source": [
    "# Write a function called reverse_string that takes a string as a parameter and returns the reverse of the input string."
   ]
  },
  {
   "cell_type": "code",
   "execution_count": 32,
   "id": "02376b65",
   "metadata": {},
   "outputs": [
    {
     "data": {
      "text/plain": [
       "'nahraF'"
      ]
     },
     "execution_count": 32,
     "metadata": {},
     "output_type": "execute_result"
    }
   ],
   "source": [
    "def reverse_string(String=\"Farhan\"):\n",
    "    words=String[::-1]\n",
    "    return words\n",
    "reverse_string()\n",
    "    "
   ]
  },
  {
   "cell_type": "code",
   "execution_count": null,
   "id": "e0a74219",
   "metadata": {},
   "outputs": [],
   "source": []
  },
  {
   "cell_type": "code",
   "execution_count": null,
   "id": "f7fcea38",
   "metadata": {},
   "outputs": [],
   "source": []
  }
 ],
 "metadata": {
  "kernelspec": {
   "display_name": "Python 3 (ipykernel)",
   "language": "python",
   "name": "python3"
  },
  "language_info": {
   "codemirror_mode": {
    "name": "ipython",
    "version": 3
   },
   "file_extension": ".py",
   "mimetype": "text/x-python",
   "name": "python",
   "nbconvert_exporter": "python",
   "pygments_lexer": "ipython3",
   "version": "3.9.7"
  }
 },
 "nbformat": 4,
 "nbformat_minor": 5
}
