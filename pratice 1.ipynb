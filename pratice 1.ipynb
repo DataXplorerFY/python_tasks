{
 "cells": [
  {
   "cell_type": "markdown",
   "id": "3ce08521",
   "metadata": {},
   "source": [
    "# Find the maximum of three numbers"
   ]
  },
  {
   "cell_type": "code",
   "execution_count": 1,
   "id": "9223f286",
   "metadata": {},
   "outputs": [
    {
     "name": "stdout",
     "output_type": "stream",
     "text": [
      "5\n"
     ]
    }
   ],
   "source": [
    "def max_of_three(a, b, c):\n",
    "  \"\"\"Finds the maximum of three numbers.\n",
    "\n",
    "  Args:\n",
    "    a: The first number.\n",
    "    b: The second number.\n",
    "    c: The third number.\n",
    "\n",
    "  Returns:\n",
    "    The maximum of the three numbers.\n",
    "  \"\"\"\n",
    "\n",
    "  max_value = a\n",
    "  if b > max_value:\n",
    "    max_value = b\n",
    "  if c > max_value:\n",
    "    max_value = c\n",
    "\n",
    "  return max_value\n",
    "\n",
    "\n",
    "print(max_of_three(1, 5, 3))"
   ]
  },
  {
   "cell_type": "markdown",
   "id": "ee71c1a2",
   "metadata": {},
   "source": [
    "# Sum all the numbers in a list"
   ]
  },
  {
   "cell_type": "code",
   "execution_count": 2,
   "id": "fbf872bd",
   "metadata": {},
   "outputs": [
    {
     "name": "stdout",
     "output_type": "stream",
     "text": [
      "15\n"
     ]
    }
   ],
   "source": [
    "def sum_of_list(numbers):\n",
    "  \"\"\"Sums all the numbers in a list.\n",
    "\n",
    "  Args:\n",
    "    numbers: The list of numbers.\n",
    "\n",
    "  Returns:\n",
    "    The sum of the numbers.\n",
    "  \"\"\"\n",
    "\n",
    "  sum_value = 0\n",
    "  for number in numbers:\n",
    "    sum_value += number\n",
    "\n",
    "  return sum_value\n",
    "\n",
    "\n",
    "print(sum_of_list([1, 2, 3, 4, 5]))"
   ]
  },
  {
   "cell_type": "markdown",
   "id": "13e539b7",
   "metadata": {},
   "source": [
    "# Multiply all the numbers in a list"
   ]
  },
  {
   "cell_type": "code",
   "execution_count": 3,
   "id": "47eafbcd",
   "metadata": {},
   "outputs": [
    {
     "name": "stdout",
     "output_type": "stream",
     "text": [
      "120\n"
     ]
    }
   ],
   "source": [
    "def product_of_list(numbers):\n",
    "  \"\"\"Multiplies all the numbers in a list.\n",
    "\n",
    "  Args:\n",
    "    numbers: The list of numbers.\n",
    "\n",
    "  Returns:\n",
    "    The product of the numbers.\n",
    "  \"\"\"\n",
    "\n",
    "  product_value = 1\n",
    "  for number in numbers:\n",
    "    product_value *= number\n",
    "\n",
    "  return product_value\n",
    "\n",
    "\n",
    "print(product_of_list([1, 2, 3, 4, 5]))"
   ]
  },
  {
   "cell_type": "code",
   "execution_count": null,
   "id": "fd932168",
   "metadata": {},
   "outputs": [],
   "source": []
  }
 ],
 "metadata": {
  "kernelspec": {
   "display_name": "Python 3 (ipykernel)",
   "language": "python",
   "name": "python3"
  },
  "language_info": {
   "codemirror_mode": {
    "name": "ipython",
    "version": 3
   },
   "file_extension": ".py",
   "mimetype": "text/x-python",
   "name": "python",
   "nbconvert_exporter": "python",
   "pygments_lexer": "ipython3",
   "version": "3.9.7"
  }
 },
 "nbformat": 4,
 "nbformat_minor": 5
}
